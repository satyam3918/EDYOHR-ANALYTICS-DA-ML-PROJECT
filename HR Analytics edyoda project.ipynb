{
 "cells": [
  {
   "cell_type": "code",
   "execution_count": 1,
   "metadata": {},
   "outputs": [],
   "source": [
    "import pandas as pd\n",
    "import numpy as np\n"
   ]
  },
  {
   "cell_type": "code",
   "execution_count": 2,
   "metadata": {},
   "outputs": [],
   "source": [
    "d_tr = pd.read_csv('aug_train.csv')\n",
    "d_te = pd.read_csv('aug_test.csv')"
   ]
  },
  {
   "cell_type": "code",
   "execution_count": 3,
   "metadata": {},
   "outputs": [
    {
     "data": {
      "text/html": [
       "<div>\n",
       "<style scoped>\n",
       "    .dataframe tbody tr th:only-of-type {\n",
       "        vertical-align: middle;\n",
       "    }\n",
       "\n",
       "    .dataframe tbody tr th {\n",
       "        vertical-align: top;\n",
       "    }\n",
       "\n",
       "    .dataframe thead th {\n",
       "        text-align: right;\n",
       "    }\n",
       "</style>\n",
       "<table border=\"1\" class=\"dataframe\">\n",
       "  <thead>\n",
       "    <tr style=\"text-align: right;\">\n",
       "      <th></th>\n",
       "      <th>enrollee_id</th>\n",
       "      <th>city</th>\n",
       "      <th>city_development_index</th>\n",
       "      <th>gender</th>\n",
       "      <th>relevent_experience</th>\n",
       "      <th>enrolled_university</th>\n",
       "      <th>education_level</th>\n",
       "      <th>major_discipline</th>\n",
       "      <th>experience</th>\n",
       "      <th>company_size</th>\n",
       "      <th>company_type</th>\n",
       "      <th>last_new_job</th>\n",
       "      <th>training_hours</th>\n",
       "      <th>target</th>\n",
       "    </tr>\n",
       "  </thead>\n",
       "  <tbody>\n",
       "    <tr>\n",
       "      <th>0</th>\n",
       "      <td>8949</td>\n",
       "      <td>city_103</td>\n",
       "      <td>0.920</td>\n",
       "      <td>Male</td>\n",
       "      <td>Has relevent experience</td>\n",
       "      <td>no_enrollment</td>\n",
       "      <td>Graduate</td>\n",
       "      <td>STEM</td>\n",
       "      <td>&gt;20</td>\n",
       "      <td>NaN</td>\n",
       "      <td>NaN</td>\n",
       "      <td>1</td>\n",
       "      <td>36</td>\n",
       "      <td>1.0</td>\n",
       "    </tr>\n",
       "    <tr>\n",
       "      <th>1</th>\n",
       "      <td>29725</td>\n",
       "      <td>city_40</td>\n",
       "      <td>0.776</td>\n",
       "      <td>Male</td>\n",
       "      <td>No relevent experience</td>\n",
       "      <td>no_enrollment</td>\n",
       "      <td>Graduate</td>\n",
       "      <td>STEM</td>\n",
       "      <td>15</td>\n",
       "      <td>50-99</td>\n",
       "      <td>Pvt Ltd</td>\n",
       "      <td>&gt;4</td>\n",
       "      <td>47</td>\n",
       "      <td>0.0</td>\n",
       "    </tr>\n",
       "    <tr>\n",
       "      <th>2</th>\n",
       "      <td>11561</td>\n",
       "      <td>city_21</td>\n",
       "      <td>0.624</td>\n",
       "      <td>NaN</td>\n",
       "      <td>No relevent experience</td>\n",
       "      <td>Full time course</td>\n",
       "      <td>Graduate</td>\n",
       "      <td>STEM</td>\n",
       "      <td>5</td>\n",
       "      <td>NaN</td>\n",
       "      <td>NaN</td>\n",
       "      <td>never</td>\n",
       "      <td>83</td>\n",
       "      <td>0.0</td>\n",
       "    </tr>\n",
       "    <tr>\n",
       "      <th>3</th>\n",
       "      <td>33241</td>\n",
       "      <td>city_115</td>\n",
       "      <td>0.789</td>\n",
       "      <td>NaN</td>\n",
       "      <td>No relevent experience</td>\n",
       "      <td>NaN</td>\n",
       "      <td>Graduate</td>\n",
       "      <td>Business Degree</td>\n",
       "      <td>&lt;1</td>\n",
       "      <td>NaN</td>\n",
       "      <td>Pvt Ltd</td>\n",
       "      <td>never</td>\n",
       "      <td>52</td>\n",
       "      <td>1.0</td>\n",
       "    </tr>\n",
       "    <tr>\n",
       "      <th>4</th>\n",
       "      <td>666</td>\n",
       "      <td>city_162</td>\n",
       "      <td>0.767</td>\n",
       "      <td>Male</td>\n",
       "      <td>Has relevent experience</td>\n",
       "      <td>no_enrollment</td>\n",
       "      <td>Masters</td>\n",
       "      <td>STEM</td>\n",
       "      <td>&gt;20</td>\n",
       "      <td>50-99</td>\n",
       "      <td>Funded Startup</td>\n",
       "      <td>4</td>\n",
       "      <td>8</td>\n",
       "      <td>0.0</td>\n",
       "    </tr>\n",
       "  </tbody>\n",
       "</table>\n",
       "</div>"
      ],
      "text/plain": [
       "   enrollee_id      city  city_development_index gender  \\\n",
       "0         8949  city_103                   0.920   Male   \n",
       "1        29725   city_40                   0.776   Male   \n",
       "2        11561   city_21                   0.624    NaN   \n",
       "3        33241  city_115                   0.789    NaN   \n",
       "4          666  city_162                   0.767   Male   \n",
       "\n",
       "       relevent_experience enrolled_university education_level  \\\n",
       "0  Has relevent experience       no_enrollment        Graduate   \n",
       "1   No relevent experience       no_enrollment        Graduate   \n",
       "2   No relevent experience    Full time course        Graduate   \n",
       "3   No relevent experience                 NaN        Graduate   \n",
       "4  Has relevent experience       no_enrollment         Masters   \n",
       "\n",
       "  major_discipline experience company_size    company_type last_new_job  \\\n",
       "0             STEM        >20          NaN             NaN            1   \n",
       "1             STEM         15        50-99         Pvt Ltd           >4   \n",
       "2             STEM          5          NaN             NaN        never   \n",
       "3  Business Degree         <1          NaN         Pvt Ltd        never   \n",
       "4             STEM        >20        50-99  Funded Startup            4   \n",
       "\n",
       "   training_hours  target  \n",
       "0              36     1.0  \n",
       "1              47     0.0  \n",
       "2              83     0.0  \n",
       "3              52     1.0  \n",
       "4               8     0.0  "
      ]
     },
     "execution_count": 3,
     "metadata": {},
     "output_type": "execute_result"
    }
   ],
   "source": [
    "d_tr.head()"
   ]
  },
  {
   "cell_type": "code",
   "execution_count": 4,
   "metadata": {},
   "outputs": [
    {
     "name": "stdout",
     "output_type": "stream",
     "text": [
      "<class 'pandas.core.frame.DataFrame'>\n",
      "RangeIndex: 19158 entries, 0 to 19157\n",
      "Data columns (total 14 columns):\n",
      " #   Column                  Non-Null Count  Dtype  \n",
      "---  ------                  --------------  -----  \n",
      " 0   enrollee_id             19158 non-null  int64  \n",
      " 1   city                    19158 non-null  object \n",
      " 2   city_development_index  19158 non-null  float64\n",
      " 3   gender                  14650 non-null  object \n",
      " 4   relevent_experience     19158 non-null  object \n",
      " 5   enrolled_university     18772 non-null  object \n",
      " 6   education_level         18698 non-null  object \n",
      " 7   major_discipline        16345 non-null  object \n",
      " 8   experience              19093 non-null  object \n",
      " 9   company_size            13220 non-null  object \n",
      " 10  company_type            13018 non-null  object \n",
      " 11  last_new_job            18735 non-null  object \n",
      " 12  training_hours          19158 non-null  int64  \n",
      " 13  target                  19158 non-null  float64\n",
      "dtypes: float64(2), int64(2), object(10)\n",
      "memory usage: 2.0+ MB\n"
     ]
    }
   ],
   "source": [
    "d_tr.info()"
   ]
  },
  {
   "cell_type": "code",
   "execution_count": 5,
   "metadata": {},
   "outputs": [
    {
     "data": {
      "text/plain": [
       "0"
      ]
     },
     "execution_count": 5,
     "metadata": {},
     "output_type": "execute_result"
    }
   ],
   "source": [
    "d_tr.duplicated().sum()"
   ]
  },
  {
   "cell_type": "code",
   "execution_count": 6,
   "metadata": {},
   "outputs": [
    {
     "data": {
      "text/plain": [
       "enrollee_id                  0\n",
       "city                         0\n",
       "city_development_index       0\n",
       "gender                    4508\n",
       "relevent_experience          0\n",
       "enrolled_university        386\n",
       "education_level            460\n",
       "major_discipline          2813\n",
       "experience                  65\n",
       "company_size              5938\n",
       "company_type              6140\n",
       "last_new_job               423\n",
       "training_hours               0\n",
       "target                       0\n",
       "dtype: int64"
      ]
     },
     "execution_count": 6,
     "metadata": {},
     "output_type": "execute_result"
    }
   ],
   "source": [
    "d_tr.isna().sum()"
   ]
  },
  {
   "cell_type": "code",
   "execution_count": 7,
   "metadata": {},
   "outputs": [],
   "source": [
    "import matplotlib.pyplot as plt\n",
    "import seaborn as sns\n",
    "%matplotlib inline"
   ]
  },
  {
   "cell_type": "code",
   "execution_count": 8,
   "metadata": {},
   "outputs": [
    {
     "name": "stderr",
     "output_type": "stream",
     "text": [
      "/home/satyam/anaconda3/lib/python3.8/site-packages/seaborn/_decorators.py:36: FutureWarning: Pass the following variable as a keyword arg: x. From version 0.12, the only valid positional argument will be `data`, and passing other arguments without an explicit keyword will result in an error or misinterpretation.\n",
      "  warnings.warn(\n"
     ]
    },
    {
     "data": {
      "text/plain": [
       "<AxesSubplot:xlabel='education_level', ylabel='count'>"
      ]
     },
     "execution_count": 8,
     "metadata": {},
     "output_type": "execute_result"
    },
    {
     "data": {
      "image/png": "[encoded data removed]",
      "text/plain": [
       "<Figure size 432x288 with 1 Axes>"
      ]
     },
     "metadata": {
      "needs_background": "light"
     },
     "output_type": "display_data"
    }
   ],
   "source": [
    "sns.countplot(d_tr['education_level'], hue=d_tr['relevent_experience'])"
   ]
  },
  {
   "cell_type": "code",
   "execution_count": 9,
   "metadata": {},
   "outputs": [
    {
     "data": {
      "image/png": "[encoded data removed]",
      "text/plain": [
       "<Figure size 432x288 with 1 Axes>"
      ]
     },
     "metadata": {
      "needs_background": "light"
     },
     "output_type": "display_data"
    }
   ],
   "source": [
    "plt.figure()\n",
    "sns.countplot(x=d_tr['gender'])\n",
    "plt.show()"
   ]
  },
  {
   "cell_type": "code",
   "execution_count": 10,
   "metadata": {},
   "outputs": [
    {
     "data": {
      "text/plain": [
       "<AxesSubplot:xlabel='target', ylabel='count'>"
      ]
     },
     "execution_count": 10,
     "metadata": {},
     "output_type": "execute_result"
    },
    {
     "data": {
      "image/png": "[encoded data removed]",
      "text/plain": [
       "<Figure size 432x288 with 1 Axes>"
      ]
     },
     "metadata": {
      "needs_background": "light"
     },
     "output_type": "display_data"
    }
   ],
   "source": [
    "sns.countplot(x=d_tr['target'], hue=d_tr['gender'])"
   ]
  },
  {
   "cell_type": "code",
   "execution_count": 11,
   "metadata": {},
   "outputs": [
    {
     "name": "stdout",
     "output_type": "stream",
     "text": [
      "city ['city_103' 'city_40' 'city_21' 'city_115' 'city_162' 'city_176'\n",
      " 'city_160' 'city_46' 'city_61' 'city_114' 'city_13' 'city_159' 'city_102'\n",
      " 'city_67' 'city_100' 'city_16' 'city_71' 'city_104' 'city_64' 'city_101'\n",
      " 'city_83' 'city_105' 'city_73' 'city_75' 'city_41' 'city_11' 'city_93'\n",
      " 'city_90' 'city_36' 'city_20' 'city_57' 'city_152' 'city_19' 'city_65'\n",
      " 'city_74' 'city_173' 'city_136' 'city_98' 'city_97' 'city_50' 'city_138'\n",
      " 'city_82' 'city_157' 'city_89' 'city_150' 'city_70' 'city_175' 'city_94'\n",
      " 'city_28' 'city_59' 'city_165' 'city_145' 'city_142' 'city_26' 'city_12'\n",
      " 'city_37' 'city_43' 'city_116' 'city_23' 'city_99' 'city_149' 'city_10'\n",
      " 'city_45' 'city_80' 'city_128' 'city_158' 'city_123' 'city_7' 'city_72'\n",
      " 'city_106' 'city_143' 'city_78' 'city_109' 'city_24' 'city_134' 'city_48'\n",
      " 'city_144' 'city_91' 'city_146' 'city_133' 'city_126' 'city_118' 'city_9'\n",
      " 'city_167' 'city_27' 'city_84' 'city_54' 'city_39' 'city_79' 'city_76'\n",
      " 'city_77' 'city_81' 'city_131' 'city_44' 'city_117' 'city_155' 'city_33'\n",
      " 'city_141' 'city_127' 'city_62' 'city_53' 'city_25' 'city_2' 'city_69'\n",
      " 'city_120' 'city_111' 'city_30' 'city_1' 'city_140' 'city_179' 'city_55'\n",
      " 'city_14' 'city_42' 'city_107' 'city_18' 'city_139' 'city_180' 'city_166'\n",
      " 'city_121' 'city_129' 'city_8' 'city_31' 'city_171']\n",
      "gender ['Male' nan 'Female' 'Other']\n",
      "relevent_experience ['Has relevent experience' 'No relevent experience']\n",
      "enrolled_university ['no_enrollment' 'Full time course' nan 'Part time course']\n",
      "education_level ['Graduate' 'Masters' 'High School' nan 'Phd' 'Primary School']\n",
      "major_discipline ['STEM' 'Business Degree' nan 'Arts' 'Humanities' 'No Major' 'Other']\n",
      "experience ['>20' '15' '5' '<1' '11' '13' '7' '17' '2' '16' '1' '4' '10' '14' '18'\n",
      " '19' '12' '3' '6' '9' '8' '20' nan]\n",
      "company_size [nan '50-99' '<10' '10000+' '5000-9999' '1000-4999' '10/49' '100-500'\n",
      " '500-999']\n",
      "company_type [nan 'Pvt Ltd' 'Funded Startup' 'Early Stage Startup' 'Other'\n",
      " 'Public Sector' 'NGO']\n",
      "last_new_job ['1' '>4' 'never' '4' '3' '2' nan]\n"
     ]
    }
   ],
   "source": [
    "for item in d_tr:\n",
    "    if d_tr[item].dtype == 'object':\n",
    "        print(item,d_tr[item].unique())"
   ]
  },
  {
   "cell_type": "code",
   "execution_count": 13,
   "metadata": {},
   "outputs": [],
   "source": [
    "from sklearn.impute import SimpleImputer\n",
    "for i in d_tr:\n",
    "    if d_tr[i].isna().sum()>0:\n",
    "        imr = SimpleImputer(missing_values=np.nan,strategy='most_frequent')\n",
    "        imr = imr.fit(d_tr[[i]])\n",
    "        imputed_data = imr.transform(d_tr[[i]])\n",
    "        d_tr[i] = imputed_data"
   ]
  },
  {
   "cell_type": "code",
   "execution_count": 14,
   "metadata": {},
   "outputs": [],
   "source": [
    "from sklearn.preprocessing import LabelEncoder\n",
    "for c in d_tr.columns:\n",
    "    le = LabelEncoder()\n",
    "    if d_tr.dtypes[c] == object:\n",
    "        le.fit(d_tr[c].astype(str))\n",
    "        d_tr[c] = le.transform(d_tr[c].astype(str))"
   ]
  },
  {
   "cell_type": "code",
   "execution_count": 15,
   "metadata": {},
   "outputs": [
    {
     "name": "stdout",
     "output_type": "stream",
     "text": [
      "0.0    14381\n",
      "1.0     4777\n",
      "Name: target, dtype: int64\n"
     ]
    }
   ],
   "source": [
    "y = d_tr['target']\n",
    "X = d_tr.drop(['target','enrollee_id'],axis=1)\n",
    "print(y.value_counts())"
   ]
  },
  {
   "cell_type": "code",
   "execution_count": 16,
   "metadata": {},
   "outputs": [
    {
     "data": {
      "text/html": [
       "<div>\n",
       "<style scoped>\n",
       "    .dataframe tbody tr th:only-of-type {\n",
       "        vertical-align: middle;\n",
       "    }\n",
       "\n",
       "    .dataframe tbody tr th {\n",
       "        vertical-align: top;\n",
       "    }\n",
       "\n",
       "    .dataframe thead th {\n",
       "        text-align: right;\n",
       "    }\n",
       "</style>\n",
       "<table border=\"1\" class=\"dataframe\">\n",
       "  <thead>\n",
       "    <tr style=\"text-align: right;\">\n",
       "      <th></th>\n",
       "      <th>city</th>\n",
       "      <th>city_development_index</th>\n",
       "      <th>gender</th>\n",
       "      <th>relevent_experience</th>\n",
       "      <th>enrolled_university</th>\n",
       "      <th>education_level</th>\n",
       "      <th>major_discipline</th>\n",
       "      <th>experience</th>\n",
       "      <th>company_size</th>\n",
       "      <th>company_type</th>\n",
       "      <th>last_new_job</th>\n",
       "      <th>training_hours</th>\n",
       "    </tr>\n",
       "  </thead>\n",
       "  <tbody>\n",
       "    <tr>\n",
       "      <th>0</th>\n",
       "      <td>-1.105203</td>\n",
       "      <td>0.738919</td>\n",
       "      <td>0.204235</td>\n",
       "      <td>-0.623752</td>\n",
       "      <td>0.568358</td>\n",
       "      <td>-0.692508</td>\n",
       "      <td>0.296787</td>\n",
       "      <td>1.219489</td>\n",
       "      <td>0.361261</td>\n",
       "      <td>0.393556</td>\n",
       "      <td>-0.902189</td>\n",
       "      <td>-0.488985</td>\n",
       "    </tr>\n",
       "    <tr>\n",
       "      <th>1</th>\n",
       "      <td>0.925077</td>\n",
       "      <td>-0.428410</td>\n",
       "      <td>0.204235</td>\n",
       "      <td>1.603202</td>\n",
       "      <td>0.568358</td>\n",
       "      <td>-0.692508</td>\n",
       "      <td>0.296787</td>\n",
       "      <td>-1.050773</td>\n",
       "      <td>0.361261</td>\n",
       "      <td>0.393556</td>\n",
       "      <td>1.164364</td>\n",
       "      <td>-0.305825</td>\n",
       "    </tr>\n",
       "    <tr>\n",
       "      <th>2</th>\n",
       "      <td>0.558499</td>\n",
       "      <td>-1.660590</td>\n",
       "      <td>0.204235</td>\n",
       "      <td>1.603202</td>\n",
       "      <td>-1.931321</td>\n",
       "      <td>-0.692508</td>\n",
       "      <td>0.296787</td>\n",
       "      <td>0.311384</td>\n",
       "      <td>0.361261</td>\n",
       "      <td>0.393556</td>\n",
       "      <td>1.681003</td>\n",
       "      <td>0.293607</td>\n",
       "    </tr>\n",
       "    <tr>\n",
       "      <th>3</th>\n",
       "      <td>-0.851418</td>\n",
       "      <td>-0.323026</td>\n",
       "      <td>0.204235</td>\n",
       "      <td>1.603202</td>\n",
       "      <td>0.568358</td>\n",
       "      <td>-0.692508</td>\n",
       "      <td>-3.909499</td>\n",
       "      <td>1.068138</td>\n",
       "      <td>0.361261</td>\n",
       "      <td>0.393556</td>\n",
       "      <td>1.681003</td>\n",
       "      <td>-0.222571</td>\n",
       "    </tr>\n",
       "    <tr>\n",
       "      <th>4</th>\n",
       "      <td>0.163722</td>\n",
       "      <td>-0.501368</td>\n",
       "      <td>0.204235</td>\n",
       "      <td>-0.623752</td>\n",
       "      <td>0.568358</td>\n",
       "      <td>1.315676</td>\n",
       "      <td>0.296787</td>\n",
       "      <td>1.219489</td>\n",
       "      <td>0.361261</td>\n",
       "      <td>-2.690501</td>\n",
       "      <td>0.647726</td>\n",
       "      <td>-0.955209</td>\n",
       "    </tr>\n",
       "    <tr>\n",
       "      <th>5</th>\n",
       "      <td>0.361110</td>\n",
       "      <td>-0.525687</td>\n",
       "      <td>0.204235</td>\n",
       "      <td>-0.623752</td>\n",
       "      <td>-0.681482</td>\n",
       "      <td>-0.692508</td>\n",
       "      <td>0.296787</td>\n",
       "      <td>-1.656176</td>\n",
       "      <td>0.361261</td>\n",
       "      <td>0.393556</td>\n",
       "      <td>-0.902189</td>\n",
       "      <td>-0.688795</td>\n",
       "    </tr>\n",
       "    <tr>\n",
       "      <th>6</th>\n",
       "      <td>0.135524</td>\n",
       "      <td>0.738919</td>\n",
       "      <td>0.204235</td>\n",
       "      <td>-0.623752</td>\n",
       "      <td>0.568358</td>\n",
       "      <td>0.311584</td>\n",
       "      <td>0.296787</td>\n",
       "      <td>0.311384</td>\n",
       "      <td>0.361261</td>\n",
       "      <td>-2.690501</td>\n",
       "      <td>-0.902189</td>\n",
       "      <td>-0.688795</td>\n",
       "    </tr>\n",
       "    <tr>\n",
       "      <th>7</th>\n",
       "      <td>1.094267</td>\n",
       "      <td>-0.541900</td>\n",
       "      <td>0.204235</td>\n",
       "      <td>-0.623752</td>\n",
       "      <td>0.568358</td>\n",
       "      <td>-0.692508</td>\n",
       "      <td>0.296787</td>\n",
       "      <td>-1.353475</td>\n",
       "      <td>2.043168</td>\n",
       "      <td>0.393556</td>\n",
       "      <td>1.164364</td>\n",
       "      <td>-0.788700</td>\n",
       "    </tr>\n",
       "    <tr>\n",
       "      <th>8</th>\n",
       "      <td>-1.105203</td>\n",
       "      <td>0.738919</td>\n",
       "      <td>0.204235</td>\n",
       "      <td>-0.623752</td>\n",
       "      <td>0.568358</td>\n",
       "      <td>-0.692508</td>\n",
       "      <td>0.296787</td>\n",
       "      <td>0.614085</td>\n",
       "      <td>0.361261</td>\n",
       "      <td>0.393556</td>\n",
       "      <td>-0.902189</td>\n",
       "      <td>-0.322476</td>\n",
       "    </tr>\n",
       "    <tr>\n",
       "      <th>9</th>\n",
       "      <td>-1.105203</td>\n",
       "      <td>0.738919</td>\n",
       "      <td>0.204235</td>\n",
       "      <td>-0.623752</td>\n",
       "      <td>0.568358</td>\n",
       "      <td>-0.692508</td>\n",
       "      <td>0.296787</td>\n",
       "      <td>-0.748072</td>\n",
       "      <td>-0.199374</td>\n",
       "      <td>0.393556</td>\n",
       "      <td>1.164364</td>\n",
       "      <td>0.959642</td>\n",
       "    </tr>\n",
       "  </tbody>\n",
       "</table>\n",
       "</div>"
      ],
      "text/plain": [
       "       city  city_development_index    gender  relevent_experience  \\\n",
       "0 -1.105203                0.738919  0.204235            -0.623752   \n",
       "1  0.925077               -0.428410  0.204235             1.603202   \n",
       "2  0.558499               -1.660590  0.204235             1.603202   \n",
       "3 -0.851418               -0.323026  0.204235             1.603202   \n",
       "4  0.163722               -0.501368  0.204235            -0.623752   \n",
       "5  0.361110               -0.525687  0.204235            -0.623752   \n",
       "6  0.135524                0.738919  0.204235            -0.623752   \n",
       "7  1.094267               -0.541900  0.204235            -0.623752   \n",
       "8 -1.105203                0.738919  0.204235            -0.623752   \n",
       "9 -1.105203                0.738919  0.204235            -0.623752   \n",
       "\n",
       "   enrolled_university  education_level  major_discipline  experience  \\\n",
       "0             0.568358        -0.692508          0.296787    1.219489   \n",
       "1             0.568358        -0.692508          0.296787   -1.050773   \n",
       "2            -1.931321        -0.692508          0.296787    0.311384   \n",
       "3             0.568358        -0.692508         -3.909499    1.068138   \n",
       "4             0.568358         1.315676          0.296787    1.219489   \n",
       "5            -0.681482        -0.692508          0.296787   -1.656176   \n",
       "6             0.568358         0.311584          0.296787    0.311384   \n",
       "7             0.568358        -0.692508          0.296787   -1.353475   \n",
       "8             0.568358        -0.692508          0.296787    0.614085   \n",
       "9             0.568358        -0.692508          0.296787   -0.748072   \n",
       "\n",
       "   company_size  company_type  last_new_job  training_hours  \n",
       "0      0.361261      0.393556     -0.902189       -0.488985  \n",
       "1      0.361261      0.393556      1.164364       -0.305825  \n",
       "2      0.361261      0.393556      1.681003        0.293607  \n",
       "3      0.361261      0.393556      1.681003       -0.222571  \n",
       "4      0.361261     -2.690501      0.647726       -0.955209  \n",
       "5      0.361261      0.393556     -0.902189       -0.688795  \n",
       "6      0.361261     -2.690501     -0.902189       -0.688795  \n",
       "7      2.043168      0.393556      1.164364       -0.788700  \n",
       "8      0.361261      0.393556     -0.902189       -0.322476  \n",
       "9     -0.199374      0.393556      1.164364        0.959642  "
      ]
     },
     "execution_count": 16,
     "metadata": {},
     "output_type": "execute_result"
    }
   ],
   "source": [
    "from sklearn import preprocessing\n",
    "nor = preprocessing.StandardScaler()\n",
    "ndf = nor.fit_transform(X)\n",
    "X = pd.DataFrame(ndf,index=X.index,columns=X.columns)\n",
    "X.head(10)"
   ]
  },
  {
   "cell_type": "code",
   "execution_count": 17,
   "metadata": {},
   "outputs": [],
   "source": [
    "from imblearn.over_sampling import ADASYN\n",
    "X_resampled, y_resampled = ADASYN().fit_resample(X,y)"
   ]
  },
  {
   "cell_type": "code",
   "execution_count": 18,
   "metadata": {},
   "outputs": [],
   "source": [
    "from sklearn.model_selection import train_test_split\n",
    "X_train,X_test,y_train,y_test =train_test_split(X_resampled,y_resampled,train_size=0.7, random_state=1)"
   ]
  },
  {
   "cell_type": "code",
   "execution_count": 19,
   "metadata": {},
   "outputs": [
    {
     "name": "stdout",
     "output_type": "stream",
     "text": [
      "Fitting 10 folds for each of 12 candidates, totalling 120 fits\n",
      "[LightGBM] [Warning] min_data_in_leaf is set=10, min_child_samples=20 will be ignored. Current value: min_data_in_leaf=10\n"
     ]
    },
    {
     "data": {
      "text/plain": [
       "RandomizedSearchCV(cv=10, estimator=LGBMClassifier(), n_iter=12, n_jobs=-1,\n",
       "                   param_distributions={'boosting_type': ['gbdt'],\n",
       "                                        'colsample_bytree': [0.5, 0.6, 0.7, 0.8,\n",
       "                                                             1.0],\n",
       "                                        'learning_rate': [0.05],\n",
       "                                        'max_depth': [3, 4, 5, 6, 7, 8],\n",
       "                                        'metric': ['auc'],\n",
       "                                        'min_data_in_leaf': [10],\n",
       "                                        'min_split_gain': [0.01],\n",
       "                                        'num_leaves': [90, 140, 200],\n",
       "                                        'objective': ['binary'],\n",
       "                                        'random_state': [42],\n",
       "                                        'subsample': [0.5, 0.6, 0.7, 0.8, 1.0]},\n",
       "                   verbose=3)"
      ]
     },
     "execution_count": 19,
     "metadata": {},
     "output_type": "execute_result"
    }
   ],
   "source": [
    "from sklearn.model_selection import RandomizedSearchCV\n",
    "import lightgbm as lgb\n",
    "params = {\n",
    "    'learning_rate': [0.05],\n",
    "    'num_leaves': [90,140,200],\n",
    "    'boosting_type' : ['gbdt'],\n",
    "    'objective' : ['binary'],\n",
    "    'max_depth' : [3,4,5,6,7,8],\n",
    "    'random_state' : [42], \n",
    "    'colsample_bytree' : [0.5,0.6,0.7,0.8,1.0],\n",
    "    'subsample' : [0.5,0.6,0.7,0.8,1.0],\n",
    "    'min_split_gain' : [0.01],\n",
    "    'min_data_in_leaf':[10],\n",
    "    'metric':['auc']\n",
    "    }\n",
    "clf = lgb.LGBMClassifier()\n",
    "RSCV = RandomizedSearchCV(clf,params,verbose=3,cv=10,n_jobs = -1,n_iter=12)\n",
    "RSCV.fit(X_train,y_train)"
   ]
  },
  {
   "cell_type": "code",
   "execution_count": 20,
   "metadata": {},
   "outputs": [
    {
     "name": "stdout",
     "output_type": "stream",
     "text": [
      "              precision    recall  f1-score   support\n",
      "\n",
      "         0.0       0.84      0.82      0.83      4345\n",
      "         1.0       0.82      0.84      0.83      4235\n",
      "\n",
      "    accuracy                           0.83      8580\n",
      "   macro avg       0.83      0.83      0.83      8580\n",
      "weighted avg       0.83      0.83      0.83      8580\n",
      "\n"
     ]
    }
   ],
   "source": [
    "y_pred=RSCV.predict(X_test)\n",
    "from sklearn.metrics import classification_report\n",
    "print(classification_report(y_test, y_pred))"
   ]
  },
  {
   "cell_type": "code",
   "execution_count": 21,
   "metadata": {},
   "outputs": [
    {
     "data": {
      "text/plain": [
       "0.8284382284382285"
      ]
     },
     "execution_count": 21,
     "metadata": {},
     "output_type": "execute_result"
    }
   ],
   "source": [
    "from sklearn.metrics import accuracy_score\n",
    "accuracy_score(y_test, y_pred)"
   ]
  },
  {
   "cell_type": "code",
   "execution_count": null,
   "metadata": {},
   "outputs": [],
   "source": []
  },
  {
   "cell_type": "code",
   "execution_count": null,
   "metadata": {},
   "outputs": [],
   "source": []
  }
 ],
 "metadata": {
  "kernelspec": {
   "display_name": "Python 3",
   "language": "python",
   "name": "python3"
  },
  "language_info": {
   "codemirror_mode": {
    "name": "ipython",
    "version": 3
   },
   "file_extension": ".py",
   "mimetype": "text/x-python",
   "name": "python",
   "nbconvert_exporter": "python",
   "pygments_lexer": "ipython3",
   "version": "3.8.5"
  }
 },
 "nbformat": 4,
 "nbformat_minor": 4
}
